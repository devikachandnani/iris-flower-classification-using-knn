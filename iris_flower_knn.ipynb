{
 "cells": [
  {
   "cell_type": "code",
   "execution_count": 1,
   "metadata": {},
   "outputs": [],
   "source": [
    "import pandas as pd\n",
    "import numpy as np\n",
    "import csv"
   ]
  },
  {
   "cell_type": "code",
   "execution_count": 2,
   "metadata": {},
   "outputs": [],
   "source": [
    "iris_train = pd.read_csv('train-2.csv')  # Import csv data to the script\n",
    "iris_test = pd.read_csv('test.csv')"
   ]
  },
  {
   "cell_type": "code",
   "execution_count": 3,
   "metadata": {},
   "outputs": [],
   "source": [
    "#Define Function: All Distance\n",
    "def ALL_Distance(iris_train, iris_test):\n",
    "    index = 0 \n",
    "    all_distance_data = []\n",
    "    for row in iris_test.itertuples(index=False, name='Pandas'): # Traverse each row of data in the test set\n",
    "        distance = Euclidean_Distance(iris_train, row)           # Calculate the Euclidean distance\n",
    "        test_row = [index]*np.shape(distance.values)[0]\n",
    "        index += 1\n",
    "        list = {'train_row': np.array(distance.index), 'distance': distance.values, 'test_row': test_row}\n",
    "        list = pd.DataFrame(list)\n",
    "        all_distance_data.append(list)                           # Store the distance between each test data point and all training data points\n",
    "    all_distance = pd.concat(all_distance_data, axis=0)\n",
    "    return all_distance\n"
   ]
  },
  {
   "cell_type": "code",
   "execution_count": 4,
   "metadata": {},
   "outputs": [],
   "source": [
    "#Define Function: Euclidean Distance\n",
    "def Euclidean_Distance(iris_train, row):\n",
    "    ED = (((iris_train.sub(row,axis=1))**2).sum(axis=1))**0.5\n",
    "    ED.sort_values(axis=0,ascending=True,inplace=True) # Using sort_values to sort the distance in ascending order\n",
    "    return ED"
   ]
  },
  {
   "cell_type": "code",
   "execution_count": 5,
   "metadata": {},
   "outputs": [],
   "source": [
    "train_label = iris_train[['CLASS_LABEL']].copy() # Save the class label"
   ]
  },
  {
   "cell_type": "code",
   "execution_count": 6,
   "metadata": {},
   "outputs": [],
   "source": [
    "iris_train.drop('CLASS_LABEL', axis=1, inplace=True) # Drop the class/Label column\n",
    "iris_train.drop('ExampleID', axis=1, inplace=True)\n",
    "iris_test.drop('ExampleID', axis=1, inplace=True)"
   ]
  },
  {
   "cell_type": "code",
   "execution_count": 7,
   "metadata": {},
   "outputs": [],
   "source": [
    "all_distance = ALL_Distance(iris_train,iris_test)"
   ]
  },
  {
   "cell_type": "code",
   "execution_count": 9,
   "metadata": {},
   "outputs": [],
   "source": [
    "k_list = [1, 3, 5, 7, 9]"
   ]
  },
  {
   "cell_type": "code",
   "execution_count": 10,
   "metadata": {},
   "outputs": [],
   "source": [
    "predict_list = {} # Initialize the predict label list\n",
    "for k in k_list:\n",
    "    row_index = 0\n",
    "    predict_label = []\n",
    "    for row in iris_test.itertuples(index=True, name='Pandas'):  \n",
    "        distance_row = all_distance[ all_distance['test_row'] == row_index] \n",
    "        k_row = distance_row.loc[:k-1, 'train_row']\n",
    "        true_label = train_label.iloc[k_row]['CLASS_LABEL'].value_counts() # Calculate the number of different label\n",
    "        predict_label.append(true_label.idxmax())  # Classify predict_label = majority vote among the K training points\n",
    "        row_index += 1\n",
    "    predict_list[k] = predict_label # Save the predict label list for each k"
   ]
  },
  {
   "cell_type": "code",
   "execution_count": 11,
   "metadata": {},
   "outputs": [
    {
     "name": "stdout",
     "output_type": "stream",
     "text": [
      "6.7,3.1,4.4,1.4,x1,versicolor,versicolor,versicolor,versicolor,versicolor\n",
      "4.4,3.2,1.3,0.2,x2,setosa,versicolor,versicolor,versicolor,versicolor\n",
      "5.3,3.7,1.5,0.2,x3,setosa,versicolor,versicolor,versicolor,versicolor\n",
      "7.7,2.8,6.7,2.0,x10,setosa,versicolor,versicolor,versicolor,versicolor\n",
      "5.1,3.5,1.4,0.2,x11,setosa,versicolor,versicolor,versicolor,versicolor\n",
      "6.5,3.0,5.2,2.0,x12,setosa,virginica,virginica,virginica,virginica\n",
      "7.1,3.0,5.9,2.1,x13,virginica,virginica,virginica,virginica,virginica\n",
      "6.4,2.7,5.3,1.9,x14,virginica,virginica,virginica,virginica,virginica\n",
      "5.2,2.7,3.9,1.4,x15,virginica,virginica,virginica,virginica,virginica\n",
      "7.0,3.2,4.7,1.4,x16,setosa,virginica,virginica,virginica,virginica\n",
      "7.2,3.2,6.0,1.8,x17,virginica,virginica,virginica,virginica,virginica\n",
      "5.4,3.7,1.5,0.2,x19,setosa,virginica,virginica,virginica,virginica\n",
      "5.6,3.0,4.5,1.5,x20,virginica,virginica,virginica,virginica,virginica\n",
      "5.9,3.2,4.8,1.8,x21,virginica,virginica,virginica,virginica,virginica\n",
      "5.1,3.4,1.5,0.2,x22,versicolor,versicolor,versicolor,versicolor,versicolor\n",
      "6.9,3.1,4.9,1.5,x23,versicolor,versicolor,versicolor,versicolor,versicolor\n",
      "6.0,2.2,4.0,1.0,x24,versicolor,versicolor,versicolor,versicolor,versicolor\n",
      "4.7,3.2,1.6,0.2,x25,versicolor,versicolor,versicolor,versicolor,versicolor\n",
      "4.6,3.6,1.0,0.2,x27,virginica,versicolor,versicolor,versicolor,versicolor\n",
      "5.6,3.0,4.1,1.3,x31,versicolor,versicolor,versicolor,versicolor,versicolor\n",
      "5.5,3.5,1.3,0.2,x33,virginica,setosa,setosa,versicolor,versicolor\n",
      "5.5,2.4,3.8,1.1,x34,versicolor,versicolor,versicolor,versicolor,versicolor\n",
      "5.1,3.8,1.6,0.2,x35,setosa,setosa,setosa,setosa,setosa\n",
      "6.3,3.3,4.7,1.6,x36,versicolor,virginica,virginica,versicolor,versicolor\n",
      "6.6,2.9,4.6,1.3,x100,versicolor,versicolor,versicolor,versicolor,versicolor\n",
      "7.7,3.0,6.1,2.3,x101,virginica,versicolor,versicolor,versicolor,versicolor\n",
      "6.4,2.9,4.3,1.3,x102,versicolor,versicolor,versicolor,versicolor,versicolor\n",
      "6.9,3.1,5.1,2.3,x103,versicolor,versicolor,versicolor,versicolor,versicolor\n",
      "6.7,3.0,5.0,1.7,x104,versicolor,versicolor,versicolor,versicolor,versicolor\n",
      "4.3,3.0,1.1,0.1,x105,setosa,setosa,setosa,setosa,setosa\n",
      "7.7,2.6,6.9,2.3,x106,versicolor,versicolor,versicolor,versicolor,versicolor\n",
      "6.7,3.3,5.7,2.5,x107,versicolor,versicolor,versicolor,versicolor,versicolor\n",
      "6.7,2.5,5.8,1.8,x108,versicolor,versicolor,versicolor,versicolor,versicolor\n",
      "1.0,3.1,1.6,0.2,x109,setosa,setosa,setosa,setosa,setosa\n",
      "5.7,4.4,1.5,0.4,x110,setosa,setosa,setosa,setosa,setosa\n",
      "6.5,3.0,5.5,1.8,x111,virginica,versicolor,versicolor,versicolor,versicolor\n",
      "6.1,3.0,4.9,1.8,x112,virginica,versicolor,versicolor,versicolor,versicolor\n",
      "5.4,3.4,1.7,0.2,x113,setosa,setosa,setosa,setosa,setosa\n",
      "6.5,3.2,5.1,2.0,x114,versicolor,versicolor,versicolor,versicolor,versicolor\n",
      "5.2,3.4,1.4,0.2,x115,setosa,versicolor,setosa,setosa,setosa\n",
      "5.7,3.0,4.2,1.2,x116,versicolor,versicolor,versicolor,versicolor,versicolor\n",
      "5.5,2.3,4.0,1.3,x117,virginica,virginica,virginica,versicolor,virginica\n",
      "5.0,3.4,1.6,0.4,x118,setosa,setosa,setosa,setosa,setosa\n",
      "5.8,2.7,5.1,1.9,x119,virginica,virginica,virginica,virginica,virginica\n",
      "6.1,2.8,4.0,1.3,x120,virginica,virginica,virginica,virginica,virginica\n",
      "5.7,2.5,5.0,2.0,x121,virginica,virginica,virginica,virginica,virginica\n",
      "6.3,2.9,5.6,1.8,x122,virginica,virginica,virginica,virginica,virginica\n",
      "4.9,3.1,1.5,0.1,x123,setosa,setosa,setosa,setosa,setosa\n",
      "6.8,3.2,5.9,2.3,x124,virginica,virginica,virginica,virginica,virginica\n",
      "6.9,3.2,5.7,2.3,x125,virginica,virginica,virginica,virginica,setosa\n",
      "6.7,3.1,4.7,1.5,x126,virginica,virginica,setosa,setosa,setosa\n",
      "5.7,2.8,4.1,1.3,x127,virginica,setosa,setosa,setosa,setosa\n",
      "5.0,3.5,1.6,0.6,x128,setosa,setosa,setosa,setosa,setosa\n",
      "5.4,3.9,1.7,0.4,x129,setosa,setosa,setosa,setosa,setosa\n",
      "5.2,3.5,1.5,0.2,x130,setosa,setosa,setosa,setosa,setosa\n",
      "6.1,2.8,4.7,1.2,x131,versicolor,versicolor,versicolor,setosa,setosa\n",
      "5.7,2.9,4.2,1.3,x132,versicolor,versicolor,versicolor,versicolor,setosa\n",
      "5.8,2.7,3.9,1.2,x133,versicolor,versicolor,versicolor,versicolor,versicolor\n",
      "5.0,3.3,1.4,0.2,x134,setosa,setosa,versicolor,versicolor,versicolor\n",
      "6.8,2.8,4.8,1.4,x135,versicolor,versicolor,versicolor,versicolor,versicolor\n",
      "6.3,2.8,5.1,1.5,x136,versicolor,versicolor,versicolor,versicolor,versicolor\n",
      "6.2,2.2,4.5,1.5,x137,versicolor,versicolor,versicolor,versicolor,versicolor\n",
      "6.0,3.0,4.8,1.8,x138,virginica,versicolor,versicolor,versicolor,versicolor\n",
      "5.1,3.5,1.4,0.3,x139,versicolor,versicolor,versicolor,versicolor,versicolor\n",
      "5.7,3.8,1.7,0.3,x140,versicolor,versicolor,versicolor,versicolor,versicolor\n",
      "6.1,3.0,4.6,1.4,x141,versicolor,virginica,virginica,virginica,virginica\n",
      "5.8,4.0,1.2,0.2,x142,setosa,setosa,versicolor,versicolor,virginica\n",
      "7.2,3.6,6.1,2.5,x143,virginica,virginica,virginica,virginica,virginica\n",
      "6.1,2.6,5.6,1.4,x144,virginica,virginica,virginica,virginica,virginica\n",
      "5.5,2.5,4.0,1.3,x145,versicolor,virginica,virginica,virginica,virginica\n",
      "7.3,2.9,6.3,1.8,x146,virginica,virginica,virginica,virginica,virginica\n",
      "4.8,3.0,1.4,0.1,x147,setosa,setosa,setosa,setosa,setosa\n",
      "7.6,3.0,6.6,2.1,x148,virginica,virginica,virginica,virginica,virginica\n",
      "6.5,3.0,5.8,2.2,x149,virginica,virginica,virginica,virginica,virginica\n",
      "5.1,3.3,1.7,0.5,x150,setosa,setosa,setosa,setosa,setosa\n"
     ]
    }
   ],
   "source": [
    "# Iterate each row in Test set and output the rawdata with predict label list\n",
    "iris_test = pd.read_csv('test.csv')\n",
    "for i in range(iris_test.shape[0]):\n",
    "    output_row = str(iris_test.iloc[i]['sepal_length']) + ',' + str(iris_test.iloc[i]['sepal_width']) + ',' + str(iris_test.iloc[i]['petal_length']) + ',' + str(iris_test.iloc[i]['petal_width']) + ',' + str(iris_test.iloc[i]['ExampleID']) + ',' + predict_list[1][i] + ',' + predict_list[3][i] + ',' + predict_list[5][i] + ',' + predict_list[7][i] + ',' + predict_list[9][i]\n",
    "    print(output_row)"
   ]
  },
  {
   "cell_type": "code",
   "execution_count": null,
   "metadata": {},
   "outputs": [],
   "source": []
  }
 ],
 "metadata": {
  "interpreter": {
   "hash": "aee8b7b246df8f9039afb4144a1f6fd8d2ca17a180786b69acc140d282b71a49"
  },
  "kernelspec": {
   "display_name": "Python 3.9.6 64-bit",
   "language": "python",
   "name": "python3"
  },
  "language_info": {
   "codemirror_mode": {
    "name": "ipython",
    "version": 3
   },
   "file_extension": ".py",
   "mimetype": "text/x-python",
   "name": "python",
   "nbconvert_exporter": "python",
   "pygments_lexer": "ipython3",
   "version": "3.9.6"
  },
  "orig_nbformat": 4
 },
 "nbformat": 4,
 "nbformat_minor": 2
}
